{
 "cells": [
  {
   "cell_type": "markdown",
   "metadata": {
    "id": "4RcLSNBEe4ZJ"
   },
   "source": [
    "**Домашнее задание 1**"
   ]
  },
  {
   "cell_type": "markdown",
   "metadata": {
    "id": "pztkxtkhe9EO"
   },
   "source": [
    "Решите предложенные задания с использованием модуля NumPy. Использование условий и циклов крайне нежелательно (списковые включения это тоже цикл!), за это будут снижаться баллы.\n",
    "Все задания равноценны. В каждой задаче постарайтесь придумать несколько решений. В задачах, где обязательно необходимо предложить хотя бы два решения, об этом написано. Решением должен быть Jupyter notebook / ссылка на Colab"
   ]
  },
  {
   "cell_type": "markdown",
   "metadata": {
    "id": "xAB-US-cfH9k"
   },
   "source": [
    "Под массивом (если не указано иное), понимается одномерный массив. Для большей части задач не указан размер массива. Это значит, что код должен работать корректно для любого размера массива"
   ]
  },
  {
   "cell_type": "markdown",
   "metadata": {
    "id": "UI0rE3Sqe_t1"
   },
   "source": [
    "1. Создайте массив 3x3, состоящий из True. Напишите минимум два варианта решения\n"
   ]
  },
  {
   "cell_type": "code",
   "execution_count": 6,
   "metadata": {},
   "outputs": [],
   "source": [
    "import numpy as np\n",
    "import timeit"
   ]
  },
  {
   "cell_type": "code",
   "execution_count": 3,
   "metadata": {
    "id": "o9o5if-Ze1pV"
   },
   "outputs": [
    {
     "data": {
      "text/plain": [
       "array([[ True,  True,  True],\n",
       "       [ True,  True,  True],\n",
       "       [ True,  True,  True]])"
      ]
     },
     "execution_count": 3,
     "metadata": {},
     "output_type": "execute_result"
    }
   ],
   "source": [
    "np.ones((3, 3), dtype=bool)"
   ]
  },
  {
   "cell_type": "code",
   "execution_count": 5,
   "metadata": {},
   "outputs": [
    {
     "data": {
      "text/plain": [
       "array([[ True,  True,  True],\n",
       "       [ True,  True,  True],\n",
       "       [ True,  True,  True]])"
      ]
     },
     "execution_count": 5,
     "metadata": {},
     "output_type": "execute_result"
    }
   ],
   "source": [
    "np.full((3, 3), True)"
   ]
  },
  {
   "cell_type": "markdown",
   "metadata": {
    "id": "hYpMLg6Jffy_"
   },
   "source": [
    "2. Замените в массиве все нечетные положительные числа на -1"
   ]
  },
  {
   "cell_type": "code",
   "execution_count": 19,
   "metadata": {
    "id": "2k2fOOoGffy_"
   },
   "outputs": [
    {
     "name": "stdout",
     "output_type": "stream",
     "text": [
      "[ 0 -7  8  6 -6  9  7  9  4  7]\n",
      "[ 0 -7  8  6 -6 -1 -1 -1  4 -1]\n"
     ]
    }
   ],
   "source": [
    "a = np.random.randint(low=-10, high=10, size=10)\n",
    "print(a)\n",
    "a[(a > 0) & (a % 2 == 1)] = -1\n",
    "print(a)"
   ]
  },
  {
   "cell_type": "markdown",
   "metadata": {
    "id": "xLDIzCXSfgUS"
   },
   "source": [
    "3. Найдите все числа, встречающиеся в 1 и 2 массивах"
   ]
  },
  {
   "cell_type": "code",
   "execution_count": 20,
   "metadata": {
    "id": "pqW7K14QfgUS"
   },
   "outputs": [
    {
     "name": "stdout",
     "output_type": "stream",
     "text": [
      "[-8 -6  4 -4 -8  3 -8 -3  2  1] [-10   1  -6   8  -9  -8   7   2  -2  -2]\n"
     ]
    },
    {
     "data": {
      "text/plain": [
       "array([-8, -6,  1,  2])"
      ]
     },
     "execution_count": 20,
     "metadata": {},
     "output_type": "execute_result"
    }
   ],
   "source": [
    "arr1 = np.random.randint(low=-10, high=10, size=10)\n",
    "arr2 = np.random.randint(low=-10, high=10, size=10)\n",
    "print(arr1, arr2)\n",
    "np.intersect1d(arr1, arr2)"
   ]
  },
  {
   "cell_type": "markdown",
   "metadata": {
    "id": "7NGZzKYjfga_"
   },
   "source": [
    "4. Дана функция maxx, работающая с двумя числами. Напишите обертку над ней, которая будет работать с двумя np.array (одинакового размера) и будет применять функцию maxx поэлементно (вместо maxx может быть любая другая кастомная функция)\n",
    "\n",
    "\n",
    "```\n",
    "def maxx(x, y):\n",
    "\t    return x if x >= y else y\n",
    "```\n",
    "\n",
    "\n"
   ]
  },
  {
   "cell_type": "code",
   "execution_count": 22,
   "metadata": {
    "id": "kp95R4sCfga_"
   },
   "outputs": [
    {
     "name": "stdout",
     "output_type": "stream",
     "text": [
      "[  3   8  -8   0 -10  -3  -9  -3  -5   8] [-9 -1 -5 -6  1 -4 -5 -5 -8  2]\n"
     ]
    },
    {
     "data": {
      "text/plain": [
       "array([ 3,  8, -5,  0,  1, -3, -5, -3, -5,  8])"
      ]
     },
     "execution_count": 22,
     "metadata": {},
     "output_type": "execute_result"
    }
   ],
   "source": [
    "def maxx(x, y):\n",
    "        return x if x >= y else y\n",
    "\n",
    "\n",
    "arr1 = np.random.randint(low=-10, high=10, size=10)\n",
    "arr2 = np.random.randint(low=-10, high=10, size=10)\n",
    "print(arr1, arr2)\n",
    "\n",
    "func1 = np.vectorize(maxx)\n",
    "func1(arr1, arr2)"
   ]
  },
  {
   "cell_type": "markdown",
   "metadata": {
    "id": "vtDaIJJvfgfV"
   },
   "source": [
    "5. Дана матрица 3х3. Поменяйте местами 1 и 2 столбцы матрицы."
   ]
  },
  {
   "cell_type": "code",
   "execution_count": 46,
   "metadata": {
    "id": "GBCy-u0zfgfV"
   },
   "outputs": [
    {
     "data": {
      "text/plain": [
       "array([[-2,  5, -7],\n",
       "       [-5, -1, -3],\n",
       "       [ 3, -1, -5]])"
      ]
     },
     "execution_count": 46,
     "metadata": {},
     "output_type": "execute_result"
    }
   ],
   "source": [
    "arr1 = np.random.randint(low=-10, high=10, size=(3, 3))\n",
    "arr1"
   ]
  },
  {
   "cell_type": "code",
   "execution_count": 47,
   "metadata": {},
   "outputs": [
    {
     "data": {
      "text/plain": [
       "array([[ 5, -2, -7],\n",
       "       [-1, -5, -3],\n",
       "       [-1,  3, -5]])"
      ]
     },
     "execution_count": 47,
     "metadata": {},
     "output_type": "execute_result"
    }
   ],
   "source": [
    "arr1[:, [1, 0]] = arr1[:, [0, 1]]\n",
    "arr1"
   ]
  },
  {
   "cell_type": "markdown",
   "metadata": {
    "id": "Oj9ydDJLfgnR"
   },
   "source": [
    "6. Поменяйте опции (```np.set_printoptions```), чтобы при выводе numpy.array отображалось не более 6 элементов"
   ]
  },
  {
   "cell_type": "code",
   "execution_count": 50,
   "metadata": {
    "id": "Y-2HJiwgfgnR"
   },
   "outputs": [
    {
     "data": {
      "text/plain": [
       "array([ 4,  7,  6, ..., -5,  8, -8])"
      ]
     },
     "execution_count": 50,
     "metadata": {},
     "output_type": "execute_result"
    }
   ],
   "source": [
    "np.set_printoptions(threshold=6)\n",
    "np.random.randint(low=-10, high=10, size=10)"
   ]
  },
  {
   "cell_type": "markdown",
   "metadata": {
    "id": "K66Xk-IGfgo4"
   },
   "source": [
    "7. В данном массиве замените все числа, меньшие 0 на 0, а большие 255 на 255. Напишите минимум два варианта решения"
   ]
  },
  {
   "cell_type": "code",
   "execution_count": 57,
   "metadata": {
    "id": "yfUBo1Lqfgo4"
   },
   "outputs": [
    {
     "data": {
      "text/plain": [
       "array([ -40,  325, -427, ...,   85,  307, -155])"
      ]
     },
     "execution_count": 57,
     "metadata": {},
     "output_type": "execute_result"
    }
   ],
   "source": [
    "arr = np.random.randint(low=-500, high=500, size=500)\n",
    "arr"
   ]
  },
  {
   "cell_type": "code",
   "execution_count": 58,
   "metadata": {},
   "outputs": [
    {
     "data": {
      "text/plain": [
       "array([  0, 255,   0, ...,  85, 255,   0])"
      ]
     },
     "execution_count": 58,
     "metadata": {},
     "output_type": "execute_result"
    }
   ],
   "source": [
    "arr[(arr < 0)] = 0\n",
    "arr[(arr > 255)] = 255\n",
    "arr"
   ]
  },
  {
   "cell_type": "code",
   "execution_count": 59,
   "metadata": {},
   "outputs": [
    {
     "data": {
      "text/plain": [
       "array([  0, 255,   0, ...,  85, 255,   0])"
      ]
     },
     "execution_count": 59,
     "metadata": {},
     "output_type": "execute_result"
    }
   ],
   "source": [
    "arr = np.where(arr > 255, 255, arr)\n",
    "arr = np.where(arr < 0, 0, arr)\n",
    "arr"
   ]
  },
  {
   "cell_type": "markdown",
   "metadata": {
    "id": "IUgt2Rqsfgqp"
   },
   "source": [
    "8. Выведите позиции топ-5 максимальных элементов в массиве. Попробуйте решить задачу за линейную сложность относительно числа элементов"
   ]
  },
  {
   "cell_type": "code",
   "execution_count": 68,
   "metadata": {},
   "outputs": [
    {
     "data": {
      "text/plain": [
       "array([-135, -177, -168,  437,  337, -472])"
      ]
     },
     "execution_count": 68,
     "metadata": {},
     "output_type": "execute_result"
    }
   ],
   "source": [
    "arr = np.random.randint(low=-500, high=500, size=6)\n",
    "arr"
   ]
  },
  {
   "cell_type": "code",
   "execution_count": 72,
   "metadata": {},
   "outputs": [
    {
     "data": {
      "text/plain": [
       "array([-177, -168,  437,  337, -135])"
      ]
     },
     "execution_count": 72,
     "metadata": {},
     "output_type": "execute_result"
    }
   ],
   "source": [
    "arr[np.argpartition(arr, -5)[-5:]]"
   ]
  },
  {
   "cell_type": "markdown",
   "metadata": {
    "id": "8x_79zGzfgtQ"
   },
   "source": [
    "9. Преобразуйте массив массивов в одномерный массив."
   ]
  },
  {
   "cell_type": "code",
   "execution_count": 73,
   "metadata": {
    "id": "4AhgBCO8fgtQ"
   },
   "outputs": [
    {
     "data": {
      "text/plain": [
       "array([[-368, -307, -238,  348, -293],\n",
       "       [ 117,  -34, -484,  163,  -67],\n",
       "       [-438,  433,  250,  342, -162],\n",
       "       [-322, -120,  480,  234,  -58]])"
      ]
     },
     "execution_count": 73,
     "metadata": {},
     "output_type": "execute_result"
    }
   ],
   "source": [
    "arr = np.random.randint(low=-500, high=500, size=(4, 5))\n",
    "arr"
   ]
  },
  {
   "cell_type": "code",
   "execution_count": 74,
   "metadata": {},
   "outputs": [
    {
     "data": {
      "text/plain": [
       "array([-368, -307, -238, ...,  480,  234,  -58])"
      ]
     },
     "execution_count": 74,
     "metadata": {},
     "output_type": "execute_result"
    }
   ],
   "source": [
    "arr = np.concatenate(arr)\n",
    "arr"
   ]
  },
  {
   "cell_type": "markdown",
   "metadata": {
    "id": "sD2_1iRcfguc"
   },
   "source": [
    "10. Найдите максимум в каждой строке двумерного массива"
   ]
  },
  {
   "cell_type": "code",
   "execution_count": 76,
   "metadata": {},
   "outputs": [
    {
     "data": {
      "text/plain": [
       "array([[ 261,  321,  454,  -29,  135],\n",
       "       [ 101,   14,   23,  301, -169]])"
      ]
     },
     "execution_count": 76,
     "metadata": {},
     "output_type": "execute_result"
    }
   ],
   "source": [
    "arr = np.random.randint(low=-500, high=500, size=(2, 5))\n",
    "arr"
   ]
  },
  {
   "cell_type": "code",
   "execution_count": 78,
   "metadata": {
    "id": "8vwGhIiYfgud"
   },
   "outputs": [
    {
     "data": {
      "text/plain": [
       "array([454, 301])"
      ]
     },
     "execution_count": 78,
     "metadata": {},
     "output_type": "execute_result"
    }
   ],
   "source": [
    "np.amax(arr, axis=1)"
   ]
  },
  {
   "cell_type": "markdown",
   "metadata": {
    "id": "FhpQUM-efgwp"
   },
   "source": [
    "11. Удалите все np.nan из массива"
   ]
  },
  {
   "cell_type": "code",
   "execution_count": 80,
   "metadata": {
    "id": "t1kEcIdhfgwp"
   },
   "outputs": [
    {
     "data": {
      "text/plain": [
       "array([nan,  1.,  2., ...,  4.,  5., nan])"
      ]
     },
     "execution_count": 80,
     "metadata": {},
     "output_type": "execute_result"
    }
   ],
   "source": [
    "arr = np.array([np.nan, 1, 2, 3, 4, 5, np.nan])\n",
    "arr"
   ]
  },
  {
   "cell_type": "code",
   "execution_count": 84,
   "metadata": {},
   "outputs": [
    {
     "data": {
      "text/plain": [
       "array([1., 2., 3., 4., 5.])"
      ]
     },
     "execution_count": 84,
     "metadata": {},
     "output_type": "execute_result"
    }
   ],
   "source": [
    "arr[~np.isnan(arr)]"
   ]
  },
  {
   "cell_type": "markdown",
   "metadata": {
    "id": "C_uo6hVEfgx7"
   },
   "source": [
    "12. Найдите индекс пятого повторения числа 1 в массиве (считаем, что в массиве есть хотя бы пять единиц)"
   ]
  },
  {
   "cell_type": "code",
   "execution_count": 93,
   "metadata": {
    "id": "lZLVAWMRfgx7"
   },
   "outputs": [
    {
     "data": {
      "text/plain": [
       "array([1, 1, 0, ..., 1, 1, 1])"
      ]
     },
     "execution_count": 93,
     "metadata": {},
     "output_type": "execute_result"
    }
   ],
   "source": [
    "arr = np.random.randint(low=0, high=2, size=100)\n",
    "arr"
   ]
  },
  {
   "cell_type": "code",
   "execution_count": 101,
   "metadata": {},
   "outputs": [
    {
     "data": {
      "text/plain": [
       "7"
      ]
     },
     "execution_count": 101,
     "metadata": {},
     "output_type": "execute_result"
    }
   ],
   "source": [
    "np.where(arr == 1)[0][5]"
   ]
  },
  {
   "cell_type": "markdown",
   "metadata": {
    "id": "KTVoVn6dfg0z"
   },
   "source": [
    "13. В квадратной матрице 5х5 из нулей получить ромб из 1, который касается середин сторон квадрата. Решите задачу как для полного ромба (внутри все 1), так и для полого (1 по границе, внутри 0):\n",
    "\n",
    "```\n",
    "полный           полый\n",
    "0 0 1 0 0       0 0 1 0 0 \n",
    "0 1 1 1 0       0 1 0 1 0 \n",
    "1 1 1 1 1       1 0 0 0 1 \n",
    "0 1 1 1 0       0 1 0 1 0 \n",
    "0 0 1 0 0       0 0 1 0 0 \n",
    "```"
   ]
  },
  {
   "cell_type": "code",
   "execution_count": 190,
   "metadata": {
    "id": "n6E9G7LYfg00"
   },
   "outputs": [
    {
     "data": {
      "text/plain": [
       "array([[0, 0, 1, 0, 0],\n",
       "       [0, 1, 1, 1, 0],\n",
       "       [1, 1, 1, 1, 1],\n",
       "       [0, 1, 1, 1, 0],\n",
       "       [0, 0, 1, 0, 0]])"
      ]
     },
     "execution_count": 190,
     "metadata": {},
     "output_type": "execute_result"
    }
   ],
   "source": [
    "r1 = np.zeros((5, 5), dtype=int)\n",
    "r1[1:-1, 1:-1] = 1\n",
    "r1[:,[2]] = 1\n",
    "r1[[2],:] = 1\n",
    "r1"
   ]
  },
  {
   "cell_type": "code",
   "execution_count": 192,
   "metadata": {},
   "outputs": [
    {
     "data": {
      "text/plain": [
       "array([[0, 0, 1, 0, 0],\n",
       "       [0, 1, 0, 1, 0],\n",
       "       [1, 0, 0, 0, 1],\n",
       "       [0, 1, 0, 1, 0],\n",
       "       [0, 0, 1, 0, 0]])"
      ]
     },
     "execution_count": 192,
     "metadata": {},
     "output_type": "execute_result"
    }
   ],
   "source": [
    "r1[1:-1, 2] = 0\n",
    "r1[2, 1:-1] = 0\n",
    "r1"
   ]
  },
  {
   "cell_type": "markdown",
   "metadata": {
    "id": "2gISyO8Tfg1-"
   },
   "source": [
    "14. Создать случайную матрицу 5x7 целых чисел от 1 до 100 и удалить [3,5] колонки"
   ]
  },
  {
   "cell_type": "code",
   "execution_count": 133,
   "metadata": {
    "id": "8CNseuq6fg1-"
   },
   "outputs": [
    {
     "data": {
      "text/plain": [
       "array([[65, 20, 27, ..., 84, 32, 95],\n",
       "       [60, 43, 40, ..., 34, 85, 60],\n",
       "       [54, 53, 94, ..., 60,  2, 26],\n",
       "       [68,  7, 32, ..., 95, 61,  1],\n",
       "       [83, 90, 47, ..., 97, 99, 17]])"
      ]
     },
     "execution_count": 133,
     "metadata": {},
     "output_type": "execute_result"
    }
   ],
   "source": [
    "arr = np.random.randint(low=1, high=101, size=(5, 7))\n",
    "arr"
   ]
  },
  {
   "cell_type": "code",
   "execution_count": 135,
   "metadata": {},
   "outputs": [
    {
     "data": {
      "text/plain": [
       "array([[65, 20, 27, 84, 95],\n",
       "       [60, 43, 40, 34, 60],\n",
       "       [54, 53, 94, 60, 26],\n",
       "       [68,  7, 32, 95,  1],\n",
       "       [83, 90, 47, 97, 17]])"
      ]
     },
     "execution_count": 135,
     "metadata": {},
     "output_type": "execute_result"
    }
   ],
   "source": [
    "arr = np.delete(arr, [3,5], axis=1)\n",
    "arr"
   ]
  },
  {
   "cell_type": "markdown",
   "metadata": {
    "id": "DyFT6PjAfg3H"
   },
   "source": [
    "15. Вычислите [скользящее среднее](https://ru.wikipedia.org/wiki/%D0%A1%D0%BA%D0%BE%D0%BB%D1%8C%D0%B7%D1%8F%D1%89%D0%B0%D1%8F_%D1%81%D1%80%D0%B5%D0%B4%D0%BD%D1%8F%D1%8F) в окне ширины 3"
   ]
  },
  {
   "cell_type": "code",
   "execution_count": 137,
   "metadata": {
    "id": "fbBZCGXrfg3H"
   },
   "outputs": [
    {
     "data": {
      "text/plain": [
       "array([14, 41, 32, 69, 88, 56])"
      ]
     },
     "execution_count": 137,
     "metadata": {},
     "output_type": "execute_result"
    }
   ],
   "source": [
    "arr = np.random.randint(low=1, high=101, size=6)\n",
    "arr"
   ]
  },
  {
   "cell_type": "code",
   "execution_count": 143,
   "metadata": {},
   "outputs": [
    {
     "data": {
      "text/plain": [
       "array([29.        , 47.33333333, 63.        , 71.        ])"
      ]
     },
     "execution_count": 143,
     "metadata": {},
     "output_type": "execute_result"
    }
   ],
   "source": [
    "np.convolve(arr, np.ones(3, dtype=int), 'valid') / 3"
   ]
  }
 ],
 "metadata": {
  "colab": {
   "provenance": []
  },
  "kernelspec": {
   "display_name": "Python 3 (ipykernel)",
   "language": "python",
   "name": "python3"
  },
  "language_info": {
   "codemirror_mode": {
    "name": "ipython",
    "version": 3
   },
   "file_extension": ".py",
   "mimetype": "text/x-python",
   "name": "python",
   "nbconvert_exporter": "python",
   "pygments_lexer": "ipython3",
   "version": "3.9.12"
  }
 },
 "nbformat": 4,
 "nbformat_minor": 1
}
